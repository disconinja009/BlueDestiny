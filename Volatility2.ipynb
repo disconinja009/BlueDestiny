{
 "cells": [
  {
   "cell_type": "markdown",
   "id": "056916a2-525d-4cd7-9208-1c337c731a3f",
   "metadata": {},
   "source": [
    "# Volatility2"
   ]
  },
  {
   "cell_type": "markdown",
   "id": "56ca790f-d111-4288-9e80-3fd418a2e796",
   "metadata": {},
   "source": [
    "## Library Import"
   ]
  },
  {
   "cell_type": "code",
   "execution_count": 1,
   "id": "8ef4166a-77d5-4488-a607-90bf12010ddb",
   "metadata": {},
   "outputs": [],
   "source": [
    "import subprocess\n",
    "\n",
    "mem = \"Bob.vmem\""
   ]
  },
  {
   "cell_type": "markdown",
   "id": "e98b2c5d-6096-42c8-ae63-221563b3e42b",
   "metadata": {},
   "source": [
    "## OS Infomation"
   ]
  },
  {
   "cell_type": "markdown",
   "id": "ecf140bd-2985-4d45-b13c-1a271e40a805",
   "metadata": {},
   "source": [
    "### imageinfo"
   ]
  },
  {
   "cell_type": "code",
   "execution_count": 4,
   "id": "f4c1cfa5-5171-40e6-ad76-d324db9e2b8d",
   "metadata": {},
   "outputs": [
    {
     "name": "stdout",
     "output_type": "stream",
     "text": [
      "          Suggested Profile(s) : WinXPSP2x86, WinXPSP3x86 (Instantiated with WinXPSP2x86)\n",
      "                     AS Layer1 : IA32PagedMemoryPae (Kernel AS)\n",
      "                     AS Layer2 : FileAddressSpace (/home/remnux/sample/Bob.vmem)\n",
      "                      PAE type : PAE\n",
      "                           DTB : 0x319000L\n",
      "                          KDBG : 0x80544ce0L\n",
      "          Number of Processors : 1\n",
      "     Image Type (Service Pack) : 2\n",
      "                KPCR for CPU 0 : 0xffdff000L\n",
      "             KUSER_SHARED_DATA : 0xffdf0000L\n",
      "           Image date and time : 2010-02-27 20:12:38 UTC+0000\n",
      "     Image local date and time : 2010-02-27 15:12:38 -0500\n",
      "\n"
     ]
    }
   ],
   "source": [
    "result = subprocess.check_output([\"vol.py\", \"-f\" ,mem, \"imageinfo\"])\n",
    "print(result)\n",
    "\n",
    "with open(\"imageinfo.txt\", mode=\"w\")as f:\n",
    "    f.write(result)"
   ]
  },
  {
   "cell_type": "markdown",
   "id": "0c000153-3681-439a-95fc-c3ca8c054d80",
   "metadata": {},
   "source": [
    "### kdbgscan"
   ]
  },
  {
   "cell_type": "code",
   "execution_count": 5,
   "id": "6f008b4e-ffbf-4398-8d18-0c2a8172a76d",
   "metadata": {},
   "outputs": [
    {
     "name": "stdout",
     "output_type": "stream",
     "text": [
      "**************************************************\n",
      "Instantiating KDBG using: Kernel AS WinXPSP2x86 (5.1.0 32bit)\n",
      "Offset (V)                    : 0x80544ce0\n",
      "Offset (P)                    : 0x544ce0\n",
      "KDBG owner tag check          : True\n",
      "Profile suggestion (KDBGHeader): WinXPSP3x86\n",
      "Version64                     : 0x80544cb8 (Major: 15, Minor: 2600)\n",
      "Service Pack (CmNtCSDVersion) : 2\n",
      "Build string (NtBuildLab)     : 2600.xpsp_sp2_rtm.040803-2158\n",
      "PsActiveProcessHead           : 0x80559258 (27 processes)\n",
      "PsLoadedModuleList            : 0x805531a0 (121 modules)\n",
      "KernelBase                    : 0x804d7000 (Matches MZ: True)\n",
      "Major (OptionalHeader)        : 5\n",
      "Minor (OptionalHeader)        : 1\n",
      "KPCR                          : 0xffdff000 (CPU 0)\n",
      "\n",
      "**************************************************\n",
      "Instantiating KDBG using: Kernel AS WinXPSP2x86 (5.1.0 32bit)\n",
      "Offset (V)                    : 0x80544ce0\n",
      "Offset (P)                    : 0x544ce0\n",
      "KDBG owner tag check          : True\n",
      "Profile suggestion (KDBGHeader): WinXPSP2x86\n",
      "Version64                     : 0x80544cb8 (Major: 15, Minor: 2600)\n",
      "Service Pack (CmNtCSDVersion) : 2\n",
      "Build string (NtBuildLab)     : 2600.xpsp_sp2_rtm.040803-2158\n",
      "PsActiveProcessHead           : 0x80559258 (27 processes)\n",
      "PsLoadedModuleList            : 0x805531a0 (121 modules)\n",
      "KernelBase                    : 0x804d7000 (Matches MZ: True)\n",
      "Major (OptionalHeader)        : 5\n",
      "Minor (OptionalHeader)        : 1\n",
      "KPCR                          : 0xffdff000 (CPU 0)\n",
      "\n",
      "\n"
     ]
    }
   ],
   "source": [
    "result = subprocess.check_output([\"vol.py\", \"-f\" ,mem, \"kdbgscan\"])\n",
    "print(result)\n",
    "\n",
    "with open(\"kdbgscan.txt\", mode=\"w\")as f:\n",
    "    f.write(result)"
   ]
  },
  {
   "cell_type": "code",
   "execution_count": 7,
   "id": "e35565db-6883-44cd-a8c5-bd7d0f819964",
   "metadata": {},
   "outputs": [],
   "source": [
    "profile = \"WinXPSP2x86\""
   ]
  },
  {
   "cell_type": "markdown",
   "id": "31c9f358-a897-4ba9-9691-9ae5627d38a3",
   "metadata": {},
   "source": [
    "## Process"
   ]
  },
  {
   "cell_type": "markdown",
   "id": "e957f7a8-a47a-4752-80b4-7682083c9b3d",
   "metadata": {},
   "source": [
    "### pslist"
   ]
  },
  {
   "cell_type": "code",
   "execution_count": 8,
   "id": "21b406bf-55bb-4e9c-afe7-df0c4fb8ddf7",
   "metadata": {},
   "outputs": [
    {
     "name": "stdout",
     "output_type": "stream",
     "text": [
      "Offset(V)  Name                    PID   PPID   Thds     Hnds   Sess  Wow64 Start                          Exit                          \n",
      "---------- -------------------- ------ ------ ------ -------- ------ ------ ------------------------------ ------------------------------\n",
      "0x823c8830 System                    4      0     58      573 ------      0                                                              \n",
      "0x81f04228 smss.exe                548      4      3       21 ------      0 2010-02-26 03:34:02 UTC+0000                                 \n",
      "0x822eeda0 csrss.exe               612    548     12      423      0      0 2010-02-26 03:34:04 UTC+0000                                 \n",
      "0x81e5b2e8 winlogon.exe            644    548     21      521      0      0 2010-02-26 03:34:04 UTC+0000                                 \n",
      "0x82256da0 services.exe            688    644     16      293      0      0 2010-02-26 03:34:05 UTC+0000                                 \n",
      "0x82129da0 lsass.exe               700    644     22      416      0      0 2010-02-26 03:34:06 UTC+0000                                 \n",
      "0x81d3f020 vmacthlp.exe            852    688      1       35      0      0 2010-02-26 03:34:06 UTC+0000                                 \n",
      "0x82266870 svchost.exe             880    688     28      340      0      0 2010-02-26 03:34:07 UTC+0000                                 \n",
      "0x822e1da0 svchost.exe             948    688     10      276      0      0 2010-02-26 03:34:07 UTC+0000                                 \n",
      "0x822ea020 svchost.exe            1040    688     83     1515      0      0 2010-02-26 03:34:07 UTC+0000                                 \n",
      "0x81dea020 svchost.exe            1100    688      6       96      0      0 2010-02-26 03:34:07 UTC+0000                                 \n",
      "0x81de55f0 svchost.exe            1244    688     19      239      0      0 2010-02-26 03:34:08 UTC+0000                                 \n",
      "0x81dde568 spoolsv.exe            1460    688     11      129      0      0 2010-02-26 03:34:10 UTC+0000                                 \n",
      "0x821018b0 vmtoolsd.exe           1628    688      5      220      0      0 2010-02-26 03:34:25 UTC+0000                                 \n",
      "0x81ddd8d0 VMUpgradeHelper        1836    688      4      108      0      0 2010-02-26 03:34:34 UTC+0000                                 \n",
      "0x820d6b88 alg.exe                2024    688      7      130      0      0 2010-02-26 03:34:35 UTC+0000                                 \n",
      "0x81cdd790 explorer.exe           1756   1660     14      345      0      0 2010-02-26 03:34:38 UTC+0000                                 \n",
      "0x81ca96f0 VMwareTray.exe         1108   1756      1       59      0      0 2010-02-26 03:34:39 UTC+0000                                 \n",
      "0x820cd5c8 VMwareUser.exe         1116   1756      4      179      0      0 2010-02-26 03:34:39 UTC+0000                                 \n",
      "0x81cee5f8 wscntfy.exe            1132   1040      1       38      0      0 2010-02-26 03:34:40 UTC+0000                                 \n",
      "0x82333620 msiexec.exe             244    688      5      181      0      0 2010-02-26 03:46:06 UTC+0000                                 \n",
      "0x81ce1af8 msiexec.exe             452    244      0 --------      0      0 2010-02-26 03:46:07 UTC+0000   2010-02-26 03:46:28 UTC+0000  \n",
      "0x81c80c78 wuauclt.exe             440   1040      8      188      0      0 2010-02-27 19:48:49 UTC+0000                                 \n",
      "0x8221a020 wuauclt.exe             232   1040      4      136      0      0 2010-02-27 19:49:11 UTC+0000                                 \n",
      "0x82068020 firefox.exe             888   1756      9      172      0      0 2010-02-27 20:11:53 UTC+0000                                 \n",
      "0x820618c8 AcroRd32.exe           1752    888      8      184      0      0 2010-02-27 20:12:23 UTC+0000                                 \n",
      "0x82209640 svchost.exe            1384    688      9      101      0      0 2010-02-27 20:12:36 UTC+0000                                 \n",
      "\n"
     ]
    }
   ],
   "source": [
    "result = subprocess.check_output([\"vol.py\", \"-f\" ,mem, \"--profile\", profile, \"pslist\"])\n",
    "print(result)\n",
    "\n",
    "with open(\"pslist.txt\", mode=\"w\")as f:\n",
    "    f.write(result)"
   ]
  },
  {
   "cell_type": "markdown",
   "id": "e2d0d401-9c66-42c6-b1a7-526863159458",
   "metadata": {},
   "source": [
    "### psscan"
   ]
  },
  {
   "cell_type": "code",
   "execution_count": 9,
   "id": "f2dd87a3-29a1-468c-9d34-43ae8100bf8f",
   "metadata": {},
   "outputs": [
    {
     "name": "stdout",
     "output_type": "stream",
     "text": [
      "Offset(P)          Name                PID   PPID PDB        Time created                   Time exited                   \n",
      "------------------ ---------------- ------ ------ ---------- ------------------------------ ------------------------------\n",
      "0x0000000001e80c78 wuauclt.exe         440   1040 0x04040240 2010-02-27 19:48:49 UTC+0000                                 \n",
      "0x0000000001ea96f0 VMwareTray.exe     1108   1756 0x04040180 2010-02-26 03:34:39 UTC+0000                                 \n",
      "0x0000000001edd790 explorer.exe       1756   1660 0x04040260 2010-02-26 03:34:38 UTC+0000                                 \n",
      "0x0000000001ee1af8 msiexec.exe         452    244 0x04040320 2010-02-26 03:46:07 UTC+0000   2010-02-26 03:46:28 UTC+0000  \n",
      "0x0000000001eee5f8 wscntfy.exe        1132   1040 0x040402a0 2010-02-26 03:34:40 UTC+0000                                 \n",
      "0x0000000001f3f020 vmacthlp.exe        852    688 0x040400c0 2010-02-26 03:34:06 UTC+0000                                 \n",
      "0x0000000001fdd8d0 VMUpgradeHelper    1836    688 0x040401e0 2010-02-26 03:34:34 UTC+0000                                 \n",
      "0x0000000001fde568 spoolsv.exe        1460    688 0x040401a0 2010-02-26 03:34:10 UTC+0000                                 \n",
      "0x0000000001fe55f0 svchost.exe        1244    688 0x04040160 2010-02-26 03:34:08 UTC+0000                                 \n",
      "0x0000000001fea020 svchost.exe        1100    688 0x04040140 2010-02-26 03:34:07 UTC+0000                                 \n",
      "0x000000000205b2e8 winlogon.exe        644    548 0x04040060 2010-02-26 03:34:04 UTC+0000                                 \n",
      "0x0000000002104228 smss.exe            548      4 0x04040020 2010-02-26 03:34:02 UTC+0000                                 \n",
      "0x00000000022618c8 AcroRd32.exe       1752    888 0x04040300 2010-02-27 20:12:23 UTC+0000                                 \n",
      "0x0000000002268020 firefox.exe         888   1756 0x04040380 2010-02-27 20:11:53 UTC+0000                                 \n",
      "0x00000000022cd5c8 VMwareUser.exe     1116   1756 0x04040280 2010-02-26 03:34:39 UTC+0000                                 \n",
      "0x00000000022d6b88 alg.exe            2024    688 0x04040200 2010-02-26 03:34:35 UTC+0000                                 \n",
      "0x00000000023018b0 vmtoolsd.exe       1628    688 0x040401c0 2010-02-26 03:34:25 UTC+0000                                 \n",
      "0x0000000002329da0 lsass.exe           700    644 0x040400a0 2010-02-26 03:34:06 UTC+0000                                 \n",
      "0x0000000002409640 svchost.exe        1384    688 0x040402e0 2010-02-27 20:12:36 UTC+0000                                 \n",
      "0x000000000241a020 wuauclt.exe         232   1040 0x04040220 2010-02-27 19:49:11 UTC+0000                                 \n",
      "0x0000000002456da0 services.exe        688    644 0x04040080 2010-02-26 03:34:05 UTC+0000                                 \n",
      "0x0000000002466870 svchost.exe         880    688 0x040400e0 2010-02-26 03:34:07 UTC+0000                                 \n",
      "0x00000000024e1da0 svchost.exe         948    688 0x04040100 2010-02-26 03:34:07 UTC+0000                                 \n",
      "0x00000000024ea020 svchost.exe        1040    688 0x04040120 2010-02-26 03:34:07 UTC+0000                                 \n",
      "0x00000000024eeda0 csrss.exe           612    548 0x04040040 2010-02-26 03:34:04 UTC+0000                                 \n",
      "0x0000000002533620 msiexec.exe         244    688 0x040402c0 2010-02-26 03:46:06 UTC+0000                                 \n",
      "0x00000000025c8830 System                4      0 0x00319000                                                              \n",
      "\n"
     ]
    }
   ],
   "source": [
    "result = subprocess.check_output([\"vol.py\", \"-f\" ,mem, \"--profile\", profile, \"psscan\"])\n",
    "print(result)\n",
    "\n",
    "with open(\"psscan.txt\", mode=\"w\")as f:\n",
    "    f.write(result)"
   ]
  },
  {
   "cell_type": "markdown",
   "id": "1e1e2d43-d75b-4ac6-a3fc-e1530623b4a3",
   "metadata": {},
   "source": [
    "### pstree"
   ]
  },
  {
   "cell_type": "code",
   "execution_count": 11,
   "id": "c6843f54-061f-4630-ad74-76ac3c6301d9",
   "metadata": {},
   "outputs": [
    {
     "name": "stdout",
     "output_type": "stream",
     "text": [
      "Name                                                  Pid   PPid   Thds   Hnds Time\n",
      "-------------------------------------------------- ------ ------ ------ ------ ----\n",
      " 0x81cdd790:explorer.exe                             1756   1660     14    345 2010-02-26 03:34:38 UTC+0000\n",
      ". 0x820cd5c8:VMwareUser.exe                          1116   1756      4    179 2010-02-26 03:34:39 UTC+0000\n",
      ". 0x81ca96f0:VMwareTray.exe                          1108   1756      1     59 2010-02-26 03:34:39 UTC+0000\n",
      ". 0x82068020:firefox.exe                              888   1756      9    172 2010-02-27 20:11:53 UTC+0000\n",
      ".. 0x820618c8:AcroRd32.exe                           1752    888      8    184 2010-02-27 20:12:23 UTC+0000\n",
      " 0x823c8830:System                                      4      0     58    573 1970-01-01 00:00:00 UTC+0000\n",
      ". 0x81f04228:smss.exe                                 548      4      3     21 2010-02-26 03:34:02 UTC+0000\n",
      ".. 0x81e5b2e8:winlogon.exe                            644    548     21    521 2010-02-26 03:34:04 UTC+0000\n",
      "... 0x82256da0:services.exe                           688    644     16    293 2010-02-26 03:34:05 UTC+0000\n",
      ".... 0x822ea020:svchost.exe                          1040    688     83   1515 2010-02-26 03:34:07 UTC+0000\n",
      "..... 0x81c80c78:wuauclt.exe                          440   1040      8    188 2010-02-27 19:48:49 UTC+0000\n",
      "..... 0x81cee5f8:wscntfy.exe                         1132   1040      1     38 2010-02-26 03:34:40 UTC+0000\n",
      "..... 0x8221a020:wuauclt.exe                          232   1040      4    136 2010-02-27 19:49:11 UTC+0000\n",
      ".... 0x81de55f0:svchost.exe                          1244    688     19    239 2010-02-26 03:34:08 UTC+0000\n",
      ".... 0x81ddd8d0:VMUpgradeHelper                      1836    688      4    108 2010-02-26 03:34:34 UTC+0000\n",
      ".... 0x81dde568:spoolsv.exe                          1460    688     11    129 2010-02-26 03:34:10 UTC+0000\n",
      ".... 0x822e1da0:svchost.exe                           948    688     10    276 2010-02-26 03:34:07 UTC+0000\n",
      ".... 0x81dea020:svchost.exe                          1100    688      6     96 2010-02-26 03:34:07 UTC+0000\n",
      ".... 0x821018b0:vmtoolsd.exe                         1628    688      5    220 2010-02-26 03:34:25 UTC+0000\n",
      ".... 0x82209640:svchost.exe                          1384    688      9    101 2010-02-27 20:12:36 UTC+0000\n",
      ".... 0x820d6b88:alg.exe                              2024    688      7    130 2010-02-26 03:34:35 UTC+0000\n",
      ".... 0x82266870:svchost.exe                           880    688     28    340 2010-02-26 03:34:07 UTC+0000\n",
      ".... 0x82333620:msiexec.exe                           244    688      5    181 2010-02-26 03:46:06 UTC+0000\n",
      "..... 0x81ce1af8:msiexec.exe                          452    244      0 ------ 2010-02-26 03:46:07 UTC+0000\n",
      ".... 0x81d3f020:vmacthlp.exe                          852    688      1     35 2010-02-26 03:34:06 UTC+0000\n",
      "... 0x82129da0:lsass.exe                              700    644     22    416 2010-02-26 03:34:06 UTC+0000\n",
      ".. 0x822eeda0:csrss.exe                               612    548     12    423 2010-02-26 03:34:04 UTC+0000\n",
      "\n"
     ]
    }
   ],
   "source": [
    "result = subprocess.check_output([\"vol.py\", \"-f\" ,mem, \"--profile\", profile, \"pstree\"])\n",
    "print(result)\n",
    "\n",
    "with open(\"pstree.txt\", mode=\"w\")as f:\n",
    "    f.write(result)"
   ]
  },
  {
   "cell_type": "markdown",
   "id": "e2b1b815-836a-45f1-82be-9c814651df5f",
   "metadata": {},
   "source": [
    "### psxview"
   ]
  },
  {
   "cell_type": "code",
   "execution_count": 12,
   "id": "3e826f1a-7c65-4493-b29b-03a2ebd4b975",
   "metadata": {},
   "outputs": [
    {
     "name": "stdout",
     "output_type": "stream",
     "text": [
      "Offset(P)  Name                    PID pslist psscan thrdproc pspcid csrss session deskthrd ExitTime\n",
      "---------- -------------------- ------ ------ ------ -------- ------ ----- ------- -------- --------\n",
      "0x02268020 firefox.exe             888 True   True   True     True   True  True    True     \n",
      "0x022d6b88 alg.exe                2024 True   True   True     True   True  True    True     \n",
      "0x024ea020 svchost.exe            1040 True   True   True     True   True  True    True     \n",
      "0x01edd790 explorer.exe           1756 True   True   True     True   True  True    True     \n",
      "0x02456da0 services.exe            688 True   True   True     True   True  True    True     \n",
      "0x01fe55f0 svchost.exe            1244 True   True   True     True   True  True    True     \n",
      "0x023018b0 vmtoolsd.exe           1628 True   True   True     True   True  True    True     \n",
      "0x022618c8 AcroRd32.exe           1752 True   True   True     True   True  True    True     \n",
      "0x024e1da0 svchost.exe             948 True   True   True     True   True  True    True     \n",
      "0x01fea020 svchost.exe            1100 True   True   True     True   True  True    True     \n",
      "0x02409640 svchost.exe            1384 True   True   True     True   True  True    True     \n",
      "0x02329da0 lsass.exe               700 True   True   True     True   True  True    True     \n",
      "0x0241a020 wuauclt.exe             232 True   True   True     True   True  True    True     \n",
      "0x022cd5c8 VMwareUser.exe         1116 True   True   True     True   True  True    True     \n",
      "0x01fdd8d0 VMUpgradeHelper        1836 True   True   True     True   True  True    True     \n",
      "0x01e80c78 wuauclt.exe             440 True   True   True     True   True  True    True     \n",
      "0x01ea96f0 VMwareTray.exe         1108 True   True   True     True   True  True    True     \n",
      "0x01f3f020 vmacthlp.exe            852 True   True   True     True   True  True    True     \n",
      "0x0205b2e8 winlogon.exe            644 True   True   True     True   True  True    True     \n",
      "0x02466870 svchost.exe             880 True   True   True     True   True  True    True     \n",
      "0x01fde568 spoolsv.exe            1460 True   True   True     True   True  True    True     \n",
      "0x02533620 msiexec.exe             244 True   True   True     True   True  True    True     \n",
      "0x01eee5f8 wscntfy.exe            1132 True   True   True     True   True  True    True     \n",
      "0x02104228 smss.exe                548 True   True   True     True   False False   False    \n",
      "0x025c8830 System                    4 True   True   True     True   False False   False    \n",
      "0x024eeda0 csrss.exe               612 True   True   True     True   False True    True     \n",
      "0x01ee1af8 msiexec.exe             452 True   True   False    True   False False   False    2010-02-26 03:46:28 UTC+0000\n",
      "\n"
     ]
    }
   ],
   "source": [
    "result = subprocess.check_output([\"vol.py\", \"-f\" ,mem, \"--profile\", profile, \"psxview\"])\n",
    "print(result)\n",
    "\n",
    "with open(\"psxview.txt\", mode=\"w\")as f:\n",
    "    f.write(result)"
   ]
  },
  {
   "cell_type": "markdown",
   "id": "d3d83e05-f689-4170-90ca-97a421515a7a",
   "metadata": {},
   "source": [
    "## Command Line"
   ]
  },
  {
   "cell_type": "markdown",
   "id": "7a893d04-f4a0-4789-8346-60500b7708cd",
   "metadata": {},
   "source": [
    "### cmdline"
   ]
  },
  {
   "cell_type": "code",
   "execution_count": 13,
   "id": "edac474e-7ada-473a-a06c-fa32675eb50e",
   "metadata": {},
   "outputs": [
    {
     "name": "stdout",
     "output_type": "stream",
     "text": [
      "************************************************************************\n",
      "System pid:      4\n",
      "************************************************************************\n",
      "smss.exe pid:    548\n",
      "Command line : \\SystemRoot\\System32\\smss.exe\n",
      "************************************************************************\n",
      "csrss.exe pid:    612\n",
      "Command line : C:\\WINDOWS\\system32\\csrss.exe ObjectDirectory=\\Windows SharedSection=1024,3072,512 Windows=On SubSystemType=Windows ServerDll=basesrv,1 ServerDll=winsrv:UserServerDllInitialization,3 ServerDll=winsrv:ConServerDllInitialization,2 ProfileControl=Off MaxRequestThreads=16\n",
      "************************************************************************\n",
      "winlogon.exe pid:    644\n",
      "Command line : winlogon.exe\n",
      "************************************************************************\n",
      "services.exe pid:    688\n",
      "Command line : C:\\WINDOWS\\system32\\services.exe\n",
      "************************************************************************\n",
      "lsass.exe pid:    700\n",
      "Command line : C:\\WINDOWS\\system32\\lsass.exe\n",
      "************************************************************************\n",
      "vmacthlp.exe pid:    852\n",
      "Command line : \"C:\\Program Files\\VMware\\VMware Tools\\vmacthlp.exe\"\n",
      "************************************************************************\n",
      "svchost.exe pid:    880\n",
      "Command line : C:\\WINDOWS\\system32\\svchost -k DcomLaunch\n",
      "************************************************************************\n",
      "svchost.exe pid:    948\n",
      "Command line : C:\\WINDOWS\\system32\\svchost -k rpcss\n",
      "************************************************************************\n",
      "svchost.exe pid:   1040\n",
      "Command line : C:\\WINDOWS\\System32\\svchost.exe -k netsvcs\n",
      "************************************************************************\n",
      "svchost.exe pid:   1100\n",
      "Command line : C:\\WINDOWS\\system32\\svchost.exe -k NetworkService\n",
      "************************************************************************\n",
      "svchost.exe pid:   1244\n",
      "Command line : C:\\WINDOWS\\system32\\svchost.exe -k LocalService\n",
      "************************************************************************\n",
      "spoolsv.exe pid:   1460\n",
      "Command line : C:\\WINDOWS\\system32\\spoolsv.exe\n",
      "************************************************************************\n",
      "vmtoolsd.exe pid:   1628\n",
      "Command line : \"C:\\Program Files\\VMware\\VMware Tools\\vmtoolsd.exe\"\n",
      "************************************************************************\n",
      "VMUpgradeHelper pid:   1836\n",
      "Command line : \"C:\\Program Files\\VMware\\VMware Tools\\VMUpgradeHelper.exe\" /service\n",
      "************************************************************************\n",
      "alg.exe pid:   2024\n",
      "Command line : C:\\WINDOWS\\System32\\alg.exe\n",
      "************************************************************************\n",
      "explorer.exe pid:   1756\n",
      "Command line : C:\\WINDOWS\\Explorer.EXE\n",
      "************************************************************************\n",
      "VMwareTray.exe pid:   1108\n",
      "Command line : \"C:\\Program Files\\VMware\\VMware Tools\\VMwareTray.exe\" \n",
      "************************************************************************\n",
      "VMwareUser.exe pid:   1116\n",
      "Command line : \"C:\\Program Files\\VMware\\VMware Tools\\VMwareUser.exe\" \n",
      "************************************************************************\n",
      "wscntfy.exe pid:   1132\n",
      "Command line : C:\\WINDOWS\\system32\\wscntfy.exe\n",
      "************************************************************************\n",
      "msiexec.exe pid:    244\n",
      "Command line : C:\\WINDOWS\\system32\\msiexec.exe /V\n",
      "************************************************************************\n",
      "msiexec.exe pid:    452\n",
      "************************************************************************\n",
      "wuauclt.exe pid:    440\n",
      "Command line : \"C:\\WINDOWS\\system32\\wuauclt.exe\" /RunStoreAsComServer Local\\[410]SUSDSc1ff345488bae64ca95cff6e5753d14f\n",
      "************************************************************************\n",
      "wuauclt.exe pid:    232\n",
      "Command line : \"C:\\WINDOWS\\system32\\wuauclt.exe\"\n",
      "************************************************************************\n",
      "firefox.exe pid:    888\n",
      "Command line : \"C:\\Program Files\\Mozilla Firefox\\firefox.exe\" \n",
      "************************************************************************\n",
      "AcroRd32.exe pid:   1752\n",
      "Command line : \"C:\\Program Files\\Adobe\\Acrobat 6.0\\Reader\\AcroRd32.exe\" /o\n",
      "************************************************************************\n",
      "svchost.exe pid:   1384\n",
      "Command line : C:\\WINDOWS\\System32\\svchost.exe -k HTTPFilter\n",
      "\n"
     ]
    }
   ],
   "source": [
    "result = subprocess.check_output([\"vol.py\", \"-f\" ,mem, \"--profile\", profile, \"cmdline\"])\n",
    "print(result)\n",
    "\n",
    "with open(\"cmdline.txt\", mode=\"w\")as f:\n",
    "    f.write(result)"
   ]
  },
  {
   "cell_type": "markdown",
   "id": "b70e2439-19a1-4ad9-8c9a-25567752dc7e",
   "metadata": {},
   "source": [
    "### cmdscan"
   ]
  },
  {
   "cell_type": "code",
   "execution_count": 14,
   "id": "5cc8b0ab-213a-41f0-b5e3-7eef8188bfc8",
   "metadata": {},
   "outputs": [
    {
     "name": "stdout",
     "output_type": "stream",
     "text": [
      "\n"
     ]
    }
   ],
   "source": [
    "result = subprocess.check_output([\"vol.py\", \"-f\" ,mem, \"--profile\", profile, \"cmdscan\"])\n",
    "print(result)\n",
    "\n",
    "with open(\"cmdscan.txt\", mode=\"w\")as f:\n",
    "    f.write(result)"
   ]
  },
  {
   "cell_type": "markdown",
   "id": "9b55d916-5f9d-4cf5-ae33-66a7e2be8667",
   "metadata": {},
   "source": [
    "### consoles"
   ]
  },
  {
   "cell_type": "code",
   "execution_count": 15,
   "id": "169ee8bf-8645-4b0b-b2ad-23219d1c6e57",
   "metadata": {},
   "outputs": [
    {
     "name": "stdout",
     "output_type": "stream",
     "text": [
      "**************************************************\n",
      "ConsoleProcess: csrss.exe Pid: 612\n",
      "Console: 0x4e23b0 CommandHistorySize: 50\n",
      "HistoryBufferCount: 3 HistoryBufferMax: 4\n",
      "OriginalTitle: ?NystemRoot%\\system32\\cmd.exe\n",
      "Title: ??\\WINDOWS\\system32\\cmd.exe\n",
      "\n"
     ]
    }
   ],
   "source": [
    "result = subprocess.check_output([\"vol.py\", \"-f\" ,mem, \"--profile\", profile, \"consoles\"])\n",
    "print(result)\n",
    "\n",
    "with open(\"consoles.txt\", mode=\"w\")as f:\n",
    "    f.write(result)"
   ]
  },
  {
   "cell_type": "markdown",
   "id": "567892be-daf8-47c5-8b4f-df7d311ac8de",
   "metadata": {},
   "source": [
    "## Network"
   ]
  },
  {
   "cell_type": "markdown",
   "id": "699f667a-7821-4f02-a12a-c91913832d16",
   "metadata": {},
   "source": [
    "### netscan"
   ]
  },
  {
   "cell_type": "code",
   "execution_count": 16,
   "id": "37136adf-432f-4119-bf2a-a4737aa63310",
   "metadata": {},
   "outputs": [
    {
     "ename": "CalledProcessError",
     "evalue": "Command '['vol.py', '-f', 'Bob.vmem', '--profile', 'WinXPSP2x86', 'netscan']' returned non-zero exit status 1",
     "output_type": "error",
     "traceback": [
      "\u001b[0;31m---------------------------------------------------------------------------\u001b[0m",
      "\u001b[0;31mCalledProcessError\u001b[0m                        Traceback (most recent call last)",
      "\u001b[0;32m<ipython-input-16-695c8dfa0dfc>\u001b[0m in \u001b[0;36m<module>\u001b[0;34m()\u001b[0m\n\u001b[0;32m----> 1\u001b[0;31m \u001b[0mresult\u001b[0m \u001b[0;34m=\u001b[0m \u001b[0msubprocess\u001b[0m\u001b[0;34m.\u001b[0m\u001b[0mcheck_output\u001b[0m\u001b[0;34m(\u001b[0m\u001b[0;34m[\u001b[0m\u001b[0;34m\"vol.py\"\u001b[0m\u001b[0;34m,\u001b[0m \u001b[0;34m\"-f\"\u001b[0m \u001b[0;34m,\u001b[0m\u001b[0mmem\u001b[0m\u001b[0;34m,\u001b[0m \u001b[0;34m\"--profile\"\u001b[0m\u001b[0;34m,\u001b[0m \u001b[0mprofile\u001b[0m\u001b[0;34m,\u001b[0m \u001b[0;34m\"netscan\"\u001b[0m\u001b[0;34m]\u001b[0m\u001b[0;34m)\u001b[0m\u001b[0;34m\u001b[0m\u001b[0m\n\u001b[0m\u001b[1;32m      2\u001b[0m \u001b[0;32mprint\u001b[0m\u001b[0;34m(\u001b[0m\u001b[0mresult\u001b[0m\u001b[0;34m)\u001b[0m\u001b[0;34m\u001b[0m\u001b[0m\n\u001b[1;32m      3\u001b[0m \u001b[0;34m\u001b[0m\u001b[0m\n\u001b[1;32m      4\u001b[0m \u001b[0;32mwith\u001b[0m \u001b[0mopen\u001b[0m\u001b[0;34m(\u001b[0m\u001b[0;34m\"netscan.txt\"\u001b[0m\u001b[0;34m,\u001b[0m \u001b[0mmode\u001b[0m\u001b[0;34m=\u001b[0m\u001b[0;34m\"w\"\u001b[0m\u001b[0;34m)\u001b[0m\u001b[0;32mas\u001b[0m \u001b[0mf\u001b[0m\u001b[0;34m:\u001b[0m\u001b[0;34m\u001b[0m\u001b[0m\n\u001b[1;32m      5\u001b[0m     \u001b[0mf\u001b[0m\u001b[0;34m.\u001b[0m\u001b[0mwrite\u001b[0m\u001b[0;34m(\u001b[0m\u001b[0mresult\u001b[0m\u001b[0;34m)\u001b[0m\u001b[0;34m\u001b[0m\u001b[0m\n",
      "\u001b[0;32m/usr/lib/python2.7/subprocess.pyc\u001b[0m in \u001b[0;36mcheck_output\u001b[0;34m(*popenargs, **kwargs)\u001b[0m\n\u001b[1;32m    221\u001b[0m         \u001b[0;32mif\u001b[0m \u001b[0mcmd\u001b[0m \u001b[0;32mis\u001b[0m \u001b[0mNone\u001b[0m\u001b[0;34m:\u001b[0m\u001b[0;34m\u001b[0m\u001b[0m\n\u001b[1;32m    222\u001b[0m             \u001b[0mcmd\u001b[0m \u001b[0;34m=\u001b[0m \u001b[0mpopenargs\u001b[0m\u001b[0;34m[\u001b[0m\u001b[0;36m0\u001b[0m\u001b[0;34m]\u001b[0m\u001b[0;34m\u001b[0m\u001b[0m\n\u001b[0;32m--> 223\u001b[0;31m         \u001b[0;32mraise\u001b[0m \u001b[0mCalledProcessError\u001b[0m\u001b[0;34m(\u001b[0m\u001b[0mretcode\u001b[0m\u001b[0;34m,\u001b[0m \u001b[0mcmd\u001b[0m\u001b[0;34m,\u001b[0m \u001b[0moutput\u001b[0m\u001b[0;34m=\u001b[0m\u001b[0moutput\u001b[0m\u001b[0;34m)\u001b[0m\u001b[0;34m\u001b[0m\u001b[0m\n\u001b[0m\u001b[1;32m    224\u001b[0m     \u001b[0;32mreturn\u001b[0m \u001b[0moutput\u001b[0m\u001b[0;34m\u001b[0m\u001b[0m\n\u001b[1;32m    225\u001b[0m \u001b[0;34m\u001b[0m\u001b[0m\n",
      "\u001b[0;31mCalledProcessError\u001b[0m: Command '['vol.py', '-f', 'Bob.vmem', '--profile', 'WinXPSP2x86', 'netscan']' returned non-zero exit status 1"
     ]
    }
   ],
   "source": [
    "result = subprocess.check_output([\"vol.py\", \"-f\" ,mem, \"--profile\", profile, \"netscan\"])\n",
    "print(result)\n",
    "\n",
    "with open(\"netscan.txt\", mode=\"w\")as f:\n",
    "    f.write(result)"
   ]
  },
  {
   "cell_type": "markdown",
   "id": "7e1e2e94-2bfa-4c6a-b251-fb0812d9e2ae",
   "metadata": {},
   "source": [
    "### netstat"
   ]
  },
  {
   "cell_type": "code",
   "execution_count": 17,
   "id": "c0d48096-0be0-4624-b573-93f9ee8258f1",
   "metadata": {},
   "outputs": [
    {
     "ename": "CalledProcessError",
     "evalue": "Command '['vol.py', '-f', 'Bob.vmem', '--profile', 'WinXPSP2x86', 'netstat']' returned non-zero exit status 1",
     "output_type": "error",
     "traceback": [
      "\u001b[0;31m---------------------------------------------------------------------------\u001b[0m",
      "\u001b[0;31mCalledProcessError\u001b[0m                        Traceback (most recent call last)",
      "\u001b[0;32m<ipython-input-17-12d39762e6d1>\u001b[0m in \u001b[0;36m<module>\u001b[0;34m()\u001b[0m\n\u001b[0;32m----> 1\u001b[0;31m \u001b[0mresult\u001b[0m \u001b[0;34m=\u001b[0m \u001b[0msubprocess\u001b[0m\u001b[0;34m.\u001b[0m\u001b[0mcheck_output\u001b[0m\u001b[0;34m(\u001b[0m\u001b[0;34m[\u001b[0m\u001b[0;34m\"vol.py\"\u001b[0m\u001b[0;34m,\u001b[0m \u001b[0;34m\"-f\"\u001b[0m \u001b[0;34m,\u001b[0m\u001b[0mmem\u001b[0m\u001b[0;34m,\u001b[0m \u001b[0;34m\"--profile\"\u001b[0m\u001b[0;34m,\u001b[0m \u001b[0mprofile\u001b[0m\u001b[0;34m,\u001b[0m \u001b[0;34m\"netstat\"\u001b[0m\u001b[0;34m]\u001b[0m\u001b[0;34m)\u001b[0m\u001b[0;34m\u001b[0m\u001b[0m\n\u001b[0m\u001b[1;32m      2\u001b[0m \u001b[0;32mprint\u001b[0m\u001b[0;34m(\u001b[0m\u001b[0mresult\u001b[0m\u001b[0;34m)\u001b[0m\u001b[0;34m\u001b[0m\u001b[0m\n\u001b[1;32m      3\u001b[0m \u001b[0;34m\u001b[0m\u001b[0m\n\u001b[1;32m      4\u001b[0m \u001b[0;32mwith\u001b[0m \u001b[0mopen\u001b[0m\u001b[0;34m(\u001b[0m\u001b[0;34m\"netstat.txt\"\u001b[0m\u001b[0;34m,\u001b[0m \u001b[0mmode\u001b[0m\u001b[0;34m=\u001b[0m\u001b[0;34m\"w\"\u001b[0m\u001b[0;34m)\u001b[0m\u001b[0;32mas\u001b[0m \u001b[0mf\u001b[0m\u001b[0;34m:\u001b[0m\u001b[0;34m\u001b[0m\u001b[0m\n\u001b[1;32m      5\u001b[0m     \u001b[0mf\u001b[0m\u001b[0;34m.\u001b[0m\u001b[0mwrite\u001b[0m\u001b[0;34m(\u001b[0m\u001b[0mresult\u001b[0m\u001b[0;34m)\u001b[0m\u001b[0;34m\u001b[0m\u001b[0m\n",
      "\u001b[0;32m/usr/lib/python2.7/subprocess.pyc\u001b[0m in \u001b[0;36mcheck_output\u001b[0;34m(*popenargs, **kwargs)\u001b[0m\n\u001b[1;32m    221\u001b[0m         \u001b[0;32mif\u001b[0m \u001b[0mcmd\u001b[0m \u001b[0;32mis\u001b[0m \u001b[0mNone\u001b[0m\u001b[0;34m:\u001b[0m\u001b[0;34m\u001b[0m\u001b[0m\n\u001b[1;32m    222\u001b[0m             \u001b[0mcmd\u001b[0m \u001b[0;34m=\u001b[0m \u001b[0mpopenargs\u001b[0m\u001b[0;34m[\u001b[0m\u001b[0;36m0\u001b[0m\u001b[0;34m]\u001b[0m\u001b[0;34m\u001b[0m\u001b[0m\n\u001b[0;32m--> 223\u001b[0;31m         \u001b[0;32mraise\u001b[0m \u001b[0mCalledProcessError\u001b[0m\u001b[0;34m(\u001b[0m\u001b[0mretcode\u001b[0m\u001b[0;34m,\u001b[0m \u001b[0mcmd\u001b[0m\u001b[0;34m,\u001b[0m \u001b[0moutput\u001b[0m\u001b[0;34m=\u001b[0m\u001b[0moutput\u001b[0m\u001b[0;34m)\u001b[0m\u001b[0;34m\u001b[0m\u001b[0m\n\u001b[0m\u001b[1;32m    224\u001b[0m     \u001b[0;32mreturn\u001b[0m \u001b[0moutput\u001b[0m\u001b[0;34m\u001b[0m\u001b[0m\n\u001b[1;32m    225\u001b[0m \u001b[0;34m\u001b[0m\u001b[0m\n",
      "\u001b[0;31mCalledProcessError\u001b[0m: Command '['vol.py', '-f', 'Bob.vmem', '--profile', 'WinXPSP2x86', 'netstat']' returned non-zero exit status 1"
     ]
    }
   ],
   "source": [
    "result = subprocess.check_output([\"vol.py\", \"-f\" ,mem, \"--profile\", profile, \"netstat\"])\n",
    "print(result)\n",
    "\n",
    "with open(\"netstat.txt\", mode=\"w\")as f:\n",
    "    f.write(result)"
   ]
  },
  {
   "cell_type": "markdown",
   "id": "57d1070d-2d14-4f5f-a1d9-59734e3e7c14",
   "metadata": {},
   "source": [
    "### connscan\n",
    "XP/2003 SPECIFIC"
   ]
  },
  {
   "cell_type": "code",
   "execution_count": 18,
   "id": "74bf950e-2c4e-4086-8ba8-69c7a82abdc4",
   "metadata": {},
   "outputs": [
    {
     "name": "stdout",
     "output_type": "stream",
     "text": [
      "Offset(P)  Local Address             Remote Address            Pid\n",
      "---------- ------------------------- ------------------------- ---\n",
      "0x01e6a9f0 192.168.0.176:1176        212.150.164.203:80        888\n",
      "0x01ec57c0 192.168.0.176:1189        192.168.0.1:9393          1244\n",
      "0x01ed4270 192.168.0.176:2869        192.168.0.1:30379         1244\n",
      "0x01eef808 192.168.0.176:2869        192.168.0.1:30380         4\n",
      "0x01ffa7f8 0.0.0.0:0                 80.206.204.129:0          0\n",
      "0x02041108 127.0.0.1:1168            127.0.0.1:1169            888\n",
      "0x0225a448 192.168.0.176:1172        66.249.91.104:80          888\n",
      "0x0226ac58 127.0.0.1:1169            127.0.0.1:1168            888\n",
      "0x0227ac58 192.168.0.176:1171        66.249.90.104:80          888\n",
      "0x02308890 192.168.0.176:1178        212.150.164.203:80        1752\n",
      "0x02323008 192.168.0.176:1184        193.104.22.71:80          880\n",
      "0x02410440 192.168.0.176:1185        193.104.22.71:80          880\n",
      "\n"
     ]
    }
   ],
   "source": [
    "result = subprocess.check_output([\"vol.py\", \"-f\" ,mem, \"--profile\", profile, \"connscan\"])\n",
    "print(result)\n",
    "\n",
    "with open(\"connscan.txt\", mode=\"w\")as f:\n",
    "    f.write(result)"
   ]
  },
  {
   "cell_type": "markdown",
   "id": "b6d31ac7-a5f5-4c31-a53d-1d44481a756f",
   "metadata": {},
   "source": [
    "### connections"
   ]
  },
  {
   "cell_type": "code",
   "execution_count": 19,
   "id": "6482724b-e197-4d63-ab5e-3f6a206de0a4",
   "metadata": {},
   "outputs": [
    {
     "name": "stdout",
     "output_type": "stream",
     "text": [
      "Offset(V)  Local Address             Remote Address            Pid\n",
      "---------- ------------------------- ------------------------- ---\n",
      "0x81c6a9f0 192.168.0.176:1176        212.150.164.203:80        888\n",
      "0x82123008 192.168.0.176:1184        193.104.22.71:80          880\n",
      "0x81cd4270 192.168.0.176:2869        192.168.0.1:30379         1244\n",
      "0x81e41108 127.0.0.1:1168            127.0.0.1:1169            888\n",
      "0x8206ac58 127.0.0.1:1169            127.0.0.1:1168            888\n",
      "0x82108890 192.168.0.176:1178        212.150.164.203:80        1752\n",
      "0x82210440 192.168.0.176:1185        193.104.22.71:80          880\n",
      "0x8207ac58 192.168.0.176:1171        66.249.90.104:80          888\n",
      "0x81cef808 192.168.0.176:2869        192.168.0.1:30380         4\n",
      "0x81cc57c0 192.168.0.176:1189        192.168.0.1:9393          1244\n",
      "0x8205a448 192.168.0.176:1172        66.249.91.104:80          888\n",
      "\n"
     ]
    }
   ],
   "source": [
    "result = subprocess.check_output([\"vol.py\", \"-f\" ,mem, \"--profile\", profile, \"connections\"])\n",
    "print(result)\n",
    "\n",
    "with open(\"connections.txt\", mode=\"w\")as f:\n",
    "    f.write(result)"
   ]
  },
  {
   "cell_type": "markdown",
   "id": "de87de87-81d6-4465-9461-9da2071df529",
   "metadata": {},
   "source": [
    "### sockscan"
   ]
  },
  {
   "cell_type": "code",
   "execution_count": 20,
   "id": "26c78abe-b3b9-459b-9412-fbba3168b371",
   "metadata": {},
   "outputs": [
    {
     "name": "stdout",
     "output_type": "stream",
     "text": [
      "Offset(P)       PID   Port  Proto Protocol        Address         Create Time\n",
      "---------- -------- ------ ------ --------------- --------------- -----------\n",
      "0x01e6cd80      888   1168      6 TCP             127.0.0.1       2010-02-27 20:11:53 UTC+0000\n",
      "0x01e75390        4    139      6 TCP             192.168.0.176   2010-02-27 19:48:57 UTC+0000\n",
      "0x01e833a0      880   1185      6 TCP             0.0.0.0         2010-02-27 20:12:36 UTC+0000\n",
      "0x01e94e98        4      0     47 GRE             0.0.0.0         2010-02-26 03:35:00 UTC+0000\n",
      "0x01e96b98     1752   1178      6 TCP             0.0.0.0         2010-02-27 20:12:32 UTC+0000\n",
      "0x01e98ce0     1244   1900     17 UDP             127.0.0.1       2010-02-27 19:48:57 UTC+0000\n",
      "0x01e9a3e8        4   1030      6 TCP             0.0.0.0         2010-02-26 03:35:00 UTC+0000\n",
      "0x01ebd320     1040   1186     17 UDP             127.0.0.1       2010-02-27 20:12:36 UTC+0000\n",
      "0x01ec72b0     1040   1182     17 UDP             127.0.0.1       2010-02-27 20:12:35 UTC+0000\n",
      "0x01ede008      880   1184      6 TCP             0.0.0.0         2010-02-27 20:12:36 UTC+0000\n",
      "0x01ee2488     1100   1047     17 UDP             0.0.0.0         2010-02-26 03:43:12 UTC+0000\n",
      "0x01ef2998     1040     68     17 UDP             192.168.0.176   2010-02-27 20:12:35 UTC+0000\n",
      "0x01f09d80     1040    123     17 UDP             192.168.0.176   2010-02-27 19:48:57 UTC+0000\n",
      "0x01f0fe98      880  30301      6 TCP             0.0.0.0         2010-02-27 20:12:36 UTC+0000\n",
      "0x01f14298      700    500     17 UDP             0.0.0.0         2010-02-26 03:34:26 UTC+0000\n",
      "0x01f1a1a0     1100   1025     17 UDP             0.0.0.0         2010-02-26 03:34:34 UTC+0000\n",
      "0x01f1a8b8     1752   1177     17 UDP             127.0.0.1       2010-02-27 20:12:32 UTC+0000\n",
      "0x01fd2a80        4    445     17 UDP             0.0.0.0         2010-02-26 03:34:02 UTC+0000\n",
      "0x01fec370      888   1169      6 TCP             0.0.0.0         2010-02-27 20:11:53 UTC+0000\n",
      "0x01feee18     1040    123     17 UDP             127.0.0.1       2010-02-27 19:48:57 UTC+0000\n",
      "0x020b6c58        4    445      6 TCP             0.0.0.0         2010-02-26 03:34:02 UTC+0000\n",
      "0x0225be98      888   1172      6 TCP             0.0.0.0         2010-02-27 20:11:53 UTC+0000\n",
      "0x02261740      888   1176      6 TCP             0.0.0.0         2010-02-27 20:12:28 UTC+0000\n",
      "0x02263008     1244   1900     17 UDP             192.168.0.176   2010-02-27 19:48:57 UTC+0000\n",
      "0x02280880      888   1171      6 TCP             0.0.0.0         2010-02-27 20:11:53 UTC+0000\n",
      "0x02294450        4    138     17 UDP             192.168.0.176   2010-02-27 19:48:57 UTC+0000\n",
      "0x022ac218     1040   1181     17 UDP             192.168.0.176   2010-02-27 20:12:35 UTC+0000\n",
      "0x022c37d0     1244   2869      6 TCP             0.0.0.0         2010-02-27 20:12:37 UTC+0000\n",
      "0x022d3d70     2024   1026      6 TCP             127.0.0.1       2010-02-26 03:34:35 UTC+0000\n",
      "0x022f4528      700      0    255 Reserved        0.0.0.0         2010-02-26 03:34:26 UTC+0000\n",
      "0x022f4aa8      700   4500     17 UDP             0.0.0.0         2010-02-26 03:34:26 UTC+0000\n",
      "0x02318008        4    137     17 UDP             192.168.0.176   2010-02-27 19:48:57 UTC+0000\n",
      "0x02410c40     1244   1189      6 TCP             0.0.0.0         2010-02-27 20:12:37 UTC+0000\n",
      "0x025e6008      948    135      6 TCP             0.0.0.0         2010-02-26 03:34:07 UTC+0000\n",
      "\n"
     ]
    }
   ],
   "source": [
    "result = subprocess.check_output([\"vol.py\", \"-f\" ,mem, \"--profile\", profile, \"sockscan\"])\n",
    "print(result)\n",
    "\n",
    "with open(\"sockscan.txt\", mode=\"w\")as f:\n",
    "    f.write(result)"
   ]
  },
  {
   "cell_type": "markdown",
   "id": "66ccba14-0c33-4628-b94f-5781b061f7ea",
   "metadata": {},
   "source": [
    "### sockets"
   ]
  },
  {
   "cell_type": "code",
   "execution_count": 21,
   "id": "1f02ca5a-b0a6-4848-bedb-09d3c5a05cac",
   "metadata": {},
   "outputs": [
    {
     "name": "stdout",
     "output_type": "stream",
     "text": [
      "Offset(V)       PID   Port  Proto Protocol        Address         Create Time\n",
      "---------- -------- ------ ------ --------------- --------------- -----------\n",
      "0x81c94e98        4      0     47 GRE             0.0.0.0         2010-02-26 03:35:00 UTC+0000\n",
      "0x81cf2998     1040     68     17 UDP             192.168.0.176   2010-02-27 20:12:35 UTC+0000\n",
      "0x81c833a0      880   1185      6 TCP             0.0.0.0         2010-02-27 20:12:36 UTC+0000\n",
      "0x81c9a3e8        4   1030      6 TCP             0.0.0.0         2010-02-26 03:35:00 UTC+0000\n",
      "0x81d14298      700    500     17 UDP             0.0.0.0         2010-02-26 03:34:26 UTC+0000\n",
      "0x82094450        4    138     17 UDP             192.168.0.176   2010-02-27 19:48:57 UTC+0000\n",
      "0x82210c40     1244   1189      6 TCP             0.0.0.0         2010-02-27 20:12:37 UTC+0000\n",
      "0x820ac218     1040   1181     17 UDP             192.168.0.176   2010-02-27 20:12:35 UTC+0000\n",
      "0x81ce2488     1100   1047     17 UDP             0.0.0.0         2010-02-26 03:43:12 UTC+0000\n",
      "0x81d0fe98      880  30301      6 TCP             0.0.0.0         2010-02-27 20:12:36 UTC+0000\n",
      "0x81eb6c58        4    445      6 TCP             0.0.0.0         2010-02-26 03:34:02 UTC+0000\n",
      "0x81d09d80     1040    123     17 UDP             192.168.0.176   2010-02-27 19:48:57 UTC+0000\n",
      "0x823e6008      948    135      6 TCP             0.0.0.0         2010-02-26 03:34:07 UTC+0000\n",
      "0x81c96b98     1752   1178      6 TCP             0.0.0.0         2010-02-27 20:12:32 UTC+0000\n",
      "0x81c6cd80      888   1168      6 TCP             127.0.0.1       2010-02-27 20:11:53 UTC+0000\n",
      "0x81d1a8b8     1752   1177     17 UDP             127.0.0.1       2010-02-27 20:12:32 UTC+0000\n",
      "0x820c37d0     1244   2869      6 TCP             0.0.0.0         2010-02-27 20:12:37 UTC+0000\n",
      "0x81deee18     1040    123     17 UDP             127.0.0.1       2010-02-27 19:48:57 UTC+0000\n",
      "0x82080880      888   1171      6 TCP             0.0.0.0         2010-02-27 20:11:53 UTC+0000\n",
      "0x820f4528      700      0    255 Reserved        0.0.0.0         2010-02-26 03:34:26 UTC+0000\n",
      "0x81d1a1a0     1100   1025     17 UDP             0.0.0.0         2010-02-26 03:34:34 UTC+0000\n",
      "0x82063008     1244   1900     17 UDP             192.168.0.176   2010-02-27 19:48:57 UTC+0000\n",
      "0x81cc72b0     1040   1182     17 UDP             127.0.0.1       2010-02-27 20:12:35 UTC+0000\n",
      "0x81c75390        4    139      6 TCP             192.168.0.176   2010-02-27 19:48:57 UTC+0000\n",
      "0x81cbd320     1040   1186     17 UDP             127.0.0.1       2010-02-27 20:12:36 UTC+0000\n",
      "0x820d3d70     2024   1026      6 TCP             127.0.0.1       2010-02-26 03:34:35 UTC+0000\n",
      "0x8205be98      888   1172      6 TCP             0.0.0.0         2010-02-27 20:11:53 UTC+0000\n",
      "0x82061740      888   1176      6 TCP             0.0.0.0         2010-02-27 20:12:28 UTC+0000\n",
      "0x81c98ce0     1244   1900     17 UDP             127.0.0.1       2010-02-27 19:48:57 UTC+0000\n",
      "0x81cde008      880   1184      6 TCP             0.0.0.0         2010-02-27 20:12:36 UTC+0000\n",
      "0x820f4aa8      700   4500     17 UDP             0.0.0.0         2010-02-26 03:34:26 UTC+0000\n",
      "0x82118008        4    137     17 UDP             192.168.0.176   2010-02-27 19:48:57 UTC+0000\n",
      "0x81dd2a80        4    445     17 UDP             0.0.0.0         2010-02-26 03:34:02 UTC+0000\n",
      "0x81dec370      888   1169      6 TCP             0.0.0.0         2010-02-27 20:11:53 UTC+0000\n",
      "\n"
     ]
    }
   ],
   "source": [
    "result = subprocess.check_output([\"vol.py\", \"-f\" ,mem, \"--profile\", profile, \"sockets\"])\n",
    "print(result)\n",
    "\n",
    "with open(\"sockets.txt\", mode=\"w\")as f:\n",
    "    f.write(result)"
   ]
  },
  {
   "cell_type": "markdown",
   "id": "a9c5dd6c-982c-49af-92e8-bcb16025a022",
   "metadata": {},
   "source": [
    "## FILES"
   ]
  },
  {
   "cell_type": "markdown",
   "id": "eb42f7b4-ca49-40be-9924-e800e4559bd5",
   "metadata": {},
   "source": [
    "### filescan"
   ]
  },
  {
   "cell_type": "code",
   "execution_count": 22,
   "id": "673642ff-ac2f-4374-84ed-f6c12f53739a",
   "metadata": {
    "tags": []
   },
   "outputs": [],
   "source": [
    "result = subprocess.check_output([\"vol.py\", \"-f\" ,mem, \"--profile\", profile, \"filescan\"])\n",
    "#print(result)\n",
    "\n",
    "with open(\"filescan.txt\", mode=\"w\")as f:\n",
    "    f.write(result)"
   ]
  },
  {
   "cell_type": "markdown",
   "id": "24fa9b67-1158-497d-8622-85cc82b8b644",
   "metadata": {},
   "source": [
    "## Services"
   ]
  },
  {
   "cell_type": "markdown",
   "id": "22bf0007-c85e-4095-98c2-f517538d8703",
   "metadata": {},
   "source": [
    "### svcscan"
   ]
  },
  {
   "cell_type": "code",
   "execution_count": 23,
   "id": "f5d88baf-e6b3-48b3-8e92-5045c80c0cf9",
   "metadata": {},
   "outputs": [],
   "source": [
    "result = subprocess.check_output([\"vol.py\", \"-f\" ,mem, \"--profile\", profile, \"svcscan\"])\n",
    "#print(result)\n",
    "\n",
    "with open(\"svcscan.txt\", mode=\"w\")as f:\n",
    "    f.write(result)"
   ]
  },
  {
   "cell_type": "markdown",
   "id": "526e1f25-1efb-402a-8c14-29cef0f981cf",
   "metadata": {},
   "source": [
    "### getservicesids"
   ]
  },
  {
   "cell_type": "code",
   "execution_count": 24,
   "id": "79c4b75f-358c-4513-8aff-452494807e7a",
   "metadata": {},
   "outputs": [],
   "source": [
    "result = subprocess.check_output([\"vol.py\", \"-f\" ,mem, \"--profile\", profile, \"getservicesids\"])\n",
    "#print(result)\n",
    "\n",
    "with open(\"getservicesids.txt\", mode=\"w\")as f:\n",
    "    f.write(result)"
   ]
  },
  {
   "cell_type": "markdown",
   "id": "67db0b33-331d-4a95-a82b-08e8f3e4ff48",
   "metadata": {},
   "source": [
    "## Environment"
   ]
  },
  {
   "cell_type": "markdown",
   "id": "9c6b890b-c0aa-4ab8-acdb-f393a149f33a",
   "metadata": {},
   "source": [
    "### envars"
   ]
  },
  {
   "cell_type": "code",
   "execution_count": 25,
   "id": "8851d021-3a98-480f-ab34-f8058cc4aedf",
   "metadata": {},
   "outputs": [],
   "source": [
    "result = subprocess.check_output([\"vol.py\", \"-f\" ,mem, \"--profile\", profile, \"envars\"])\n",
    "#print(result)\n",
    "\n",
    "with open(\"envars.txt\", mode=\"w\")as f:\n",
    "    f.write(result)"
   ]
  },
  {
   "cell_type": "markdown",
   "id": "3f5b959c-a5cd-4808-b155-b546c4dd6abe",
   "metadata": {},
   "source": [
    "## REGISTRY"
   ]
  },
  {
   "cell_type": "markdown",
   "id": "0287a363-5821-4e9e-8cf1-77f7a116ab58",
   "metadata": {},
   "source": [
    "### hivescan"
   ]
  },
  {
   "cell_type": "code",
   "execution_count": 26,
   "id": "737107e0-84b6-42fc-bb92-1828eb2ebff9",
   "metadata": {},
   "outputs": [
    {
     "name": "stdout",
     "output_type": "stream",
     "text": [
      "Offset(P) \n",
      "----------\n",
      "0x02a97008\n",
      "0x02a9db60\n",
      "0x02e48008\n",
      "0x034b5a08\n",
      "0x036bd748\n",
      "0x03858518\n",
      "0x04351950\n",
      "0x069e2b60\n",
      "0x06d3bb60\n",
      "0x073f8b60\n",
      "0x0abf7b60\n",
      "0x0b68ab60\n",
      "0x0e99c820\n",
      "\n"
     ]
    }
   ],
   "source": [
    "result = subprocess.check_output([\"vol.py\", \"-f\" ,mem, \"--profile\", profile, \"hivescan\"])\n",
    "print(result)\n",
    "\n",
    "with open(\"hivescan.txt\", mode=\"w\")as f:\n",
    "    f.write(result)"
   ]
  },
  {
   "cell_type": "markdown",
   "id": "5ab7df26-60b4-4e47-b738-529381cfb731",
   "metadata": {},
   "source": [
    "### hivelist"
   ]
  },
  {
   "cell_type": "code",
   "execution_count": 27,
   "id": "0ad3852b-995a-41ed-81bf-429e204f821b",
   "metadata": {},
   "outputs": [
    {
     "name": "stdout",
     "output_type": "stream",
     "text": [
      "Virtual    Physical   Name\n",
      "---------- ---------- ----\n",
      "0xe1d6cb60 0x0abf7b60 \\Device\\HarddiskVolume1\\Documents and Settings\\Administrator\\Local Settings\\Application Data\\Microsoft\\Windows\\UsrClass.dat\n",
      "0xe1de0b60 0x0b68ab60 \\Device\\HarddiskVolume1\\Documents and Settings\\Administrator\\NTUSER.DAT\n",
      "0xe1769b60 0x069e2b60 \\Device\\HarddiskVolume1\\Documents and Settings\\LocalService\\Local Settings\\Application Data\\Microsoft\\Windows\\UsrClass.dat\n",
      "0xe17deb60 0x073f8b60 \\Device\\HarddiskVolume1\\Documents and Settings\\LocalService\\NTUSER.DAT\n",
      "0xe1797b60 0x06d3bb60 \\Device\\HarddiskVolume1\\Documents and Settings\\NetworkService\\Local Settings\\Application Data\\Microsoft\\Windows\\UsrClass.dat\n",
      "0xe17a3820 0x0e99c820 \\Device\\HarddiskVolume1\\Documents and Settings\\NetworkService\\NTUSER.DAT\n",
      "0xe1526748 0x036bd748 \\Device\\HarddiskVolume1\\WINDOWS\\system32\\config\\software\n",
      "0xe15a3950 0x04351950 \\Device\\HarddiskVolume1\\WINDOWS\\system32\\config\\default\n",
      "0xe151ea08 0x034b5a08 \\Device\\HarddiskVolume1\\WINDOWS\\system32\\config\\SAM\n",
      "0xe153e518 0x03858518 \\Device\\HarddiskVolume1\\WINDOWS\\system32\\config\\SECURITY\n",
      "0xe139d008 0x02e48008 [no name]\n",
      "0xe1035b60 0x02a9db60 \\Device\\HarddiskVolume1\\WINDOWS\\system32\\config\\system\n",
      "0xe102e008 0x02a97008 [no name]\n",
      "\n"
     ]
    }
   ],
   "source": [
    "result = subprocess.check_output([\"vol.py\", \"-f\" ,mem, \"--profile\", profile, \"hivelist\"])\n",
    "print(result)\n",
    "\n",
    "with open(\"hivelist.txt\", mode=\"w\")as f:\n",
    "    f.write(result)"
   ]
  },
  {
   "cell_type": "markdown",
   "id": "55a80595-2196-4054-baab-ba508349ddfa",
   "metadata": {},
   "source": [
    "### userassist"
   ]
  },
  {
   "cell_type": "code",
   "execution_count": 28,
   "id": "89929538-7822-4091-8e87-1e7edb4e86de",
   "metadata": {},
   "outputs": [
    {
     "name": "stdout",
     "output_type": "stream",
     "text": [
      "----------------------------\n",
      "Registry: \\Device\\HarddiskVolume1\\Documents and Settings\\Administrator\\NTUSER.DAT \n",
      "Path: Software\\Microsoft\\Windows\\CurrentVersion\\Explorer\\UserAssist\\{5E6AB780-7743-11CF-A12B-00AA004AE837}\\Count\n",
      "Last updated: 2010-02-27 19:49:48 UTC+0000\n",
      "\n",
      "Subkeys:\n",
      "\n",
      "Values:\n",
      "\n",
      "REG_BINARY    UEME_CTLSESSION : Raw Data:\n",
      "0x00000000  2e bf 55 0e 02 00 00 00                           ..U.....\n",
      "\n",
      "REG_BINARY    UEME_CTLCUACount:ctor : \n",
      "ID:             2\n",
      "Count:          2\n",
      "Last updated:   1970-01-01 00:00:00 UTC+0000\n",
      "Raw Data:\n",
      "0x00000000  02 00 00 00 02 00 00 00 00 00 00 00 00 00 00 00   ................\n",
      "\n",
      "REG_BINARY    UEME_UITOOLBAR  : \n",
      "ID:             2\n",
      "Count:          1\n",
      "Last updated:   2010-02-27 19:49:48 UTC+0000\n",
      "Raw Data:\n",
      "0x00000000  02 00 00 00 06 00 00 00 80 50 de 04 e6 b7 ca 01   .........P......\n",
      "\n",
      "REG_BINARY    UEME_UITOOLBAR:0x1,124 : \n",
      "ID:             2\n",
      "Count:          1\n",
      "Last updated:   2010-02-27 19:49:48 UTC+0000\n",
      "Raw Data:\n",
      "0x00000000  02 00 00 00 06 00 00 00 80 50 de 04 e6 b7 ca 01   .........P......\n",
      "----------------------------\n",
      "Registry: \\Device\\HarddiskVolume1\\Documents and Settings\\Administrator\\NTUSER.DAT \n",
      "Path: Software\\Microsoft\\Windows\\CurrentVersion\\Explorer\\UserAssist\\{75048700-EF1F-11D0-9888-006097DEACF9}\\Count\n",
      "Last updated: 2010-02-27 20:11:53 UTC+0000\n",
      "\n",
      "Subkeys:\n",
      "\n",
      "Values:\n",
      "\n",
      "REG_BINARY    UEME_CTLSESSION : Raw Data:\n",
      "0x00000000  a2 b4 55 0e 01 00 00 00                           ..U.....\n",
      "\n",
      "REG_BINARY    UEME_RUNPIDL:%csidl2%\\MSN.lnk : \n",
      "ID:             1\n",
      "Count:          14\n",
      "Last updated:   2010-02-26 03:30:17 UTC+0000\n",
      "Raw Data:\n",
      "0x00000000  01 00 00 00 13 00 00 00 4e c4 fb 03 94 b6 ca 01   ........N.......\n",
      "\n",
      "REG_BINARY    UEME_RUNPIDL:%csidl2%\\Windows Media Player.lnk : \n",
      "ID:             1\n",
      "Count:          13\n",
      "Last updated:   2010-02-26 03:30:17 UTC+0000\n",
      "Raw Data:\n",
      "0x00000000  01 00 00 00 12 00 00 00 4e c4 fb 03 94 b6 ca 01   ........N.......\n",
      "\n",
      "REG_BINARY    UEME_RUNPIDL:%csidl2%\\Windows Messenger.lnk : \n",
      "ID:             1\n",
      "Count:          12\n",
      "Last updated:   2010-02-26 03:30:17 UTC+0000\n",
      "Raw Data:\n",
      "0x00000000  01 00 00 00 11 00 00 00 4e c4 fb 03 94 b6 ca 01   ........N.......\n",
      "\n",
      "REG_BINARY    UEME_RUNPIDL:%csidl2%\\Accessories\\Tour Windows XP.lnk : \n",
      "ID:             1\n",
      "Count:          11\n",
      "Last updated:   2010-02-26 03:30:17 UTC+0000\n",
      "Raw Data:\n",
      "0x00000000  01 00 00 00 10 00 00 00 4e c4 fb 03 94 b6 ca 01   ........N.......\n",
      "\n",
      "REG_BINARY    UEME_RUNPIDL:%csidl2%\\Accessories\\System Tools\\Files and Settings Transfer Wizard.lnk : \n",
      "ID:             1\n",
      "Count:          10\n",
      "Last updated:   2010-02-26 03:30:17 UTC+0000\n",
      "Raw Data:\n",
      "0x00000000  01 00 00 00 0f 00 00 00 4e c4 fb 03 94 b6 ca 01   ........N.......\n",
      "\n",
      "REG_BINARY    UEME_CTLCUACount:ctor : \n",
      "ID:             1\n",
      "Count:          2\n",
      "Last updated:   1970-01-01 00:00:00 UTC+0000\n",
      "Raw Data:\n",
      "0x00000000  01 00 00 00 02 00 00 00 00 00 00 00 00 00 00 00   ................\n",
      "\n",
      "REG_BINARY    UEME_RUNPIDL    : \n",
      "ID:             1\n",
      "Count:          3\n",
      "Last updated:   2010-02-27 19:49:47 UTC+0000\n",
      "Raw Data:\n",
      "0x00000000  01 00 00 00 08 00 00 00 80 3c 11 04 e6 b7 ca 01   .........<......\n",
      "\n",
      "REG_BINARY    UEME_RUNPATH    : \n",
      "ID:             1\n",
      "Count:          7\n",
      "Last updated:   2010-02-27 20:11:53 UTC+0000\n",
      "Raw Data:\n",
      "0x00000000  01 00 00 00 0c 00 00 00 70 b7 7d 1a e9 b7 ca 01   ........p.}.....\n",
      "\n",
      "REG_BINARY    UEME_RUNPATH:C:\\WINDOWS\\system32\\oobe\\msoobe.exe : \n",
      "ID:             1\n",
      "Count:          1\n",
      "Last updated:   2010-02-26 03:34:57 UTC+0000\n",
      "Raw Data:\n",
      "0x00000000  01 00 00 00 06 00 00 00 10 0e 29 ab 94 b6 ca 01   ..........).....\n",
      "\n",
      "REG_BINARY    UEME_RUNCPL     : \n",
      "ID:             1\n",
      "Count:          3\n",
      "Last updated:   2010-02-26 03:35:38 UTC+0000\n",
      "Raw Data:\n",
      "0x00000000  01 00 00 00 08 00 00 00 10 3a 62 c3 94 b6 ca 01   .........:b.....\n",
      "\n",
      "REG_BINARY    UEME_RUNCPL:desk.cpl : \n",
      "ID:             1\n",
      "Count:          2\n",
      "Last updated:   2010-02-26 03:35:29 UTC+0000\n",
      "Raw Data:\n",
      "0x00000000  01 00 00 00 07 00 00 00 c0 be f6 bd 94 b6 ca 01   ................\n",
      "\n",
      "REG_BINARY    UEME_UISCUT     : \n",
      "ID:             1\n",
      "Count:          2\n",
      "Last updated:   2010-02-27 20:11:53 UTC+0000\n",
      "Raw Data:\n",
      "0x00000000  01 00 00 00 07 00 00 00 a0 15 6d 1a e9 b7 ca 01   ..........m.....\n",
      "\n",
      "REG_BINARY    UEME_RUNPATH:::{20D04FE0-3AEA-1069-A2D8-08002B30309D} : \n",
      "ID:             1\n",
      "Count:          1\n",
      "Last updated:   2010-02-26 03:35:35 UTC+0000\n",
      "Raw Data:\n",
      "0x00000000  01 00 00 00 06 00 00 00 d0 19 83 c1 94 b6 ca 01   ................\n",
      "\n",
      "REG_BINARY    UEME_RUNCPL:SYSDM.CPL : \n",
      "ID:             1\n",
      "Count:          1\n",
      "Last updated:   2010-02-26 03:35:38 UTC+0000\n",
      "Raw Data:\n",
      "0x00000000  01 00 00 00 06 00 00 00 10 3a 62 c3 94 b6 ca 01   .........:b.....\n",
      "\n",
      "REG_BINARY    UEME_RUNPATH:C:\\WINDOWS\\system32\\cmd.exe : \n",
      "ID:             1\n",
      "Count:          1\n",
      "Last updated:   2010-02-26 03:42:15 UTC+0000\n",
      "Raw Data:\n",
      "0x00000000  01 00 00 00 06 00 00 00 b0 41 5e b0 95 b6 ca 01   .........A^.....\n",
      "\n",
      "REG_BINARY    UEME_RUNPATH:C:\\Program Files\\Internet Explorer\\iexplore.exe : \n",
      "ID:             1\n",
      "Count:          2\n",
      "Last updated:   2010-02-27 19:49:47 UTC+0000\n",
      "Raw Data:\n",
      "0x00000000  01 00 00 00 07 00 00 00 80 3c 11 04 e6 b7 ca 01   .........<......\n",
      "\n",
      "REG_BINARY    UEME_RUNPIDL:::{2559A1F4-21D7-11D4-BDAF-00C04F60B9F0} : \n",
      "ID:             1\n",
      "Count:          2\n",
      "Last updated:   2010-02-27 19:49:47 UTC+0000\n",
      "Raw Data:\n",
      "0x00000000  01 00 00 00 07 00 00 00 80 3c 11 04 e6 b7 ca 01   .........<......\n",
      "\n",
      "REG_BINARY    UEME_RUNPATH:Mozilla Firefox.lnk : \n",
      "ID:             1\n",
      "Count:          1\n",
      "Last updated:   2010-02-27 20:11:53 UTC+0000\n",
      "Raw Data:\n",
      "0x00000000  01 00 00 00 06 00 00 00 a0 15 6d 1a e9 b7 ca 01   ..........m.....\n",
      "\n",
      "REG_BINARY    UEME_RUNPATH:C:\\Program Files\\Mozilla Firefox\\firefox.exe : \n",
      "ID:             1\n",
      "Count:          1\n",
      "Last updated:   2010-02-27 20:11:53 UTC+0000\n",
      "Raw Data:\n",
      "0x00000000  01 00 00 00 06 00 00 00 70 b7 7d 1a e9 b7 ca 01   ........p.}.....\n",
      "\n"
     ]
    }
   ],
   "source": [
    "result = subprocess.check_output([\"vol.py\", \"-f\" ,mem, \"--profile\", profile, \"userassist\"])\n",
    "print(result)\n",
    "\n",
    "with open(\"userassist.txt\", mode=\"w\")as f:\n",
    "    f.write(result)"
   ]
  },
  {
   "cell_type": "markdown",
   "id": "a7d04e63-6378-4649-bfe0-cd6e311271a0",
   "metadata": {},
   "source": [
    "### printkey"
   ]
  },
  {
   "cell_type": "code",
   "execution_count": 29,
   "id": "b9fe5f1e-3444-4d47-9b21-3668c00d27d9",
   "metadata": {},
   "outputs": [
    {
     "name": "stdout",
     "output_type": "stream",
     "text": [
      "Legend: (S) = Stable   (V) = Volatile\n",
      "\n",
      "----------------------------\n",
      "Registry: \\Device\\HarddiskVolume1\\Documents and Settings\\Administrator\\Local Settings\\Application Data\\Microsoft\\Windows\\UsrClass.dat\n",
      "Key name: S-1-5-21-789336058-1844823847-839522115-500_Classes (S)\n",
      "Last updated: 2010-02-26 03:32:00 UTC+0000\n",
      "\n",
      "Subkeys:\n",
      "  (S) Software\n",
      "\n",
      "Values:\n",
      "----------------------------\n",
      "Registry: \\Device\\HarddiskVolume1\\Documents and Settings\\Administrator\\NTUSER.DAT\n",
      "Key name: $$$PROTO.HIV (S)\n",
      "Last updated: 2010-02-26 03:34:45 UTC+0000\n",
      "\n",
      "Subkeys:\n",
      "  (S) AppEvents\n",
      "  (S) Console\n",
      "  (S) Control Panel\n",
      "  (S) Environment\n",
      "  (S) Identities\n",
      "  (S) Keyboard Layout\n",
      "  (S) Printers\n",
      "  (S) Software\n",
      "  (S) UNICODE Program Groups\n",
      "  (V) SessionInformation\n",
      "  (V) Volatile Environment\n",
      "\n",
      "Values:\n",
      "----------------------------\n",
      "Registry: \\Device\\HarddiskVolume1\\Documents and Settings\\NetworkService\\Local Settings\\Application Data\\Microsoft\\Windows\\UsrClass.dat\n",
      "Key name: S-1-5-20_Classes (S)\n",
      "Last updated: 2010-02-26 03:31:09 UTC+0000\n",
      "\n",
      "Subkeys:\n",
      "\n",
      "Values:\n",
      "----------------------------\n",
      "Registry: \\Device\\HarddiskVolume1\\Documents and Settings\\NetworkService\\NTUSER.DAT\n",
      "Key name: $$$PROTO.HIV (S)\n",
      "Last updated: 2010-02-26 03:31:09 UTC+0000\n",
      "\n",
      "Subkeys:\n",
      "  (S) AppEvents\n",
      "  (S) Console\n",
      "  (S) Control Panel\n",
      "  (S) Environment\n",
      "  (S) Identities\n",
      "  (S) Keyboard Layout\n",
      "  (S) Printers\n",
      "  (S) Software\n",
      "  (S) UNICODE Program Groups\n",
      "\n",
      "Values:\n",
      "----------------------------\n",
      "Registry: \\Device\\HarddiskVolume1\\WINDOWS\\system32\\config\\software\n",
      "Key name: $$$PROTO.HIV (S)\n",
      "Last updated: 2010-02-27 19:50:49 UTC+0000\n",
      "\n",
      "Subkeys:\n",
      "  (S) Adobe\n",
      "  (S) C07ft5Y\n",
      "  (S) Classes\n",
      "  (S) Clients\n",
      "  (S) Gemplus\n",
      "  (S) Microsoft\n",
      "  (S) Mozilla\n",
      "  (S) ODBC\n",
      "  (S) Policies\n",
      "  (S) Program Groups\n",
      "  (S) Schlumberger\n",
      "  (S) Secure\n",
      "  (S) ThinPrint\n",
      "  (S) VMware, Inc.\n",
      "  (S) Windows 3.1 Migration Status\n",
      "\n",
      "Values:\n",
      "----------------------------\n",
      "Registry: [no name]\n",
      "Key name: REGISTRY (S)\n",
      "Last updated: 2010-02-26 03:33:58 UTC+0000\n",
      "\n",
      "Subkeys:\n",
      "  (S) MACHINE\n",
      "  (S) USER\n",
      "\n",
      "Values:\n",
      "----------------------------\n",
      "Registry: \\Device\\HarddiskVolume1\\Documents and Settings\\LocalService\\Local Settings\\Application Data\\Microsoft\\Windows\\UsrClass.dat\n",
      "Key name: S-1-5-19_Classes (S)\n",
      "Last updated: 2010-02-26 03:31:12 UTC+0000\n",
      "\n",
      "Subkeys:\n",
      "\n",
      "Values:\n",
      "----------------------------\n",
      "Registry: \\Device\\HarddiskVolume1\\WINDOWS\\system32\\config\\default\n",
      "Key name: $$$PROTO.HIV (S)\n",
      "Last updated: 2010-02-26 03:27:46 UTC+0000\n",
      "\n",
      "Subkeys:\n",
      "  (S) AppEvents\n",
      "  (S) Console\n",
      "  (S) Control Panel\n",
      "  (S) Environment\n",
      "  (S) Identities\n",
      "  (S) Keyboard Layout\n",
      "  (S) Printers\n",
      "  (S) Software\n",
      "  (S) UNICODE Program Groups\n",
      "\n",
      "Values:\n",
      "----------------------------\n",
      "Registry: \\Device\\HarddiskVolume1\\WINDOWS\\system32\\config\\SAM\n",
      "Key name: SAM (S)\n",
      "Last updated: 2010-02-25 22:22:08 UTC+0000\n",
      "\n",
      "Subkeys:\n",
      "  (S) SAM\n",
      "\n",
      "Values:\n",
      "----------------------------\n",
      "Registry: \\Device\\HarddiskVolume1\\WINDOWS\\system32\\config\\system\n",
      "Key name: $$$PROTO.HIV (S)\n",
      "Last updated: 2010-02-26 03:33:58 UTC+0000\n",
      "\n",
      "Subkeys:\n",
      "  (S) ControlSet001\n",
      "  (S) ControlSet002\n",
      "  (S) LastKnownGoodRecovery\n",
      "  (S) MountedDevices\n",
      "  (S) Select\n",
      "  (S) Setup\n",
      "  (S) WPA\n",
      "  (V) CurrentControlSet\n",
      "\n",
      "Values:\n",
      "----------------------------\n",
      "Registry: [no name]\n",
      "Key name: HARDWARE (S)\n",
      "Last updated: 2010-02-26 03:33:58 UTC+0000\n",
      "\n",
      "Subkeys:\n",
      "  (S) ACPI\n",
      "  (S) DESCRIPTION\n",
      "  (S) DEVICEMAP\n",
      "  (V) RESOURCEMAP\n",
      "\n",
      "Values:\n",
      "----------------------------\n",
      "Registry: \\Device\\HarddiskVolume1\\WINDOWS\\system32\\config\\SECURITY\n",
      "Key name: SECURITY (S)\n",
      "Last updated: 2010-02-26 03:34:03 UTC+0000\n",
      "\n",
      "Subkeys:\n",
      "  (S) Policy\n",
      "  (S) RXACT\n",
      "  (V) SAM\n",
      "\n",
      "Values:\n",
      "----------------------------\n",
      "Registry: \\Device\\HarddiskVolume1\\Documents and Settings\\LocalService\\NTUSER.DAT\n",
      "Key name: $$$PROTO.HIV (S)\n",
      "Last updated: 2010-02-26 03:31:12 UTC+0000\n",
      "\n",
      "Subkeys:\n",
      "  (S) AppEvents\n",
      "  (S) Console\n",
      "  (S) Control Panel\n",
      "  (S) Environment\n",
      "  (S) Identities\n",
      "  (S) Keyboard Layout\n",
      "  (S) Printers\n",
      "  (S) Software\n",
      "  (S) UNICODE Program Groups\n",
      "\n",
      "Values:\n",
      "\n"
     ]
    }
   ],
   "source": [
    "result = subprocess.check_output([\"vol.py\", \"-f\" ,mem, \"--profile\", profile, \"printkey\"])\n",
    "print(result)\n",
    "\n",
    "with open(\"printkey.txt\", mode=\"w\")as f:\n",
    "    f.write(result)"
   ]
  },
  {
   "cell_type": "markdown",
   "id": "2e9217c6-b284-44fb-83ca-78c6e002a03d",
   "metadata": {},
   "source": [
    "## malware"
   ]
  },
  {
   "cell_type": "markdown",
   "id": "1cef8132-5f41-4c17-9ca7-06407407a492",
   "metadata": {},
   "source": [
    "### malfind"
   ]
  },
  {
   "cell_type": "code",
   "execution_count": 31,
   "id": "67bc4ca9-2324-45f3-90f4-13119bd8a1d9",
   "metadata": {},
   "outputs": [],
   "source": [
    "result = subprocess.check_output([\"vol.py\", \"-f\" ,mem, \"--profile\", profile, \"malfind\"])\n",
    "#print(result)\n",
    "\n",
    "with open(\"malfind.txt\", mode=\"w\")as f:\n",
    "    f.write(result)"
   ]
  },
  {
   "cell_type": "markdown",
   "id": "f932ca07-f804-4d88-9320-e52aeaa0ff8d",
   "metadata": {},
   "source": [
    "### apihooks"
   ]
  },
  {
   "cell_type": "code",
   "execution_count": 32,
   "id": "1f0fd880-af08-4f7a-863a-5149a6726f8a",
   "metadata": {},
   "outputs": [],
   "source": [
    "result = subprocess.check_output([\"vol.py\", \"-f\" ,mem, \"--profile\", profile, \"apihooks\"])\n",
    "#print(result)\n",
    "\n",
    "with open(\"apihooks.txt\", mode=\"w\")as f:\n",
    "    f.write(result)"
   ]
  },
  {
   "cell_type": "markdown",
   "id": "0f65f722-0d8d-4c70-88dc-e2125e8a41e5",
   "metadata": {},
   "source": [
    "### driverirp"
   ]
  },
  {
   "cell_type": "code",
   "execution_count": 33,
   "id": "d619da07-72fb-4fe4-bed7-a53c1ea12edf",
   "metadata": {},
   "outputs": [],
   "source": [
    "result = subprocess.check_output([\"vol.py\", \"-f\" ,mem, \"--profile\", profile, \"driverirp\"])\n",
    "#print(result)\n",
    "\n",
    "with open(\"driverirp.txt\", mode=\"w\")as f:\n",
    "    f.write(result)"
   ]
  },
  {
   "cell_type": "markdown",
   "id": "8f610253-7432-4ac8-83b9-94a3a2cadfa9",
   "metadata": {},
   "source": [
    "### ssdt"
   ]
  },
  {
   "cell_type": "code",
   "execution_count": 34,
   "id": "b4b2187c-e03d-4038-ab28-e4fae38d2237",
   "metadata": {},
   "outputs": [],
   "source": [
    "result = subprocess.check_output([\"vol.py\", \"-f\" ,mem, \"--profile\", profile, \"ssdt\"])\n",
    "#print(result)\n",
    "\n",
    "with open(\"ssdt.txt\", mode=\"w\")as f:\n",
    "    f.write(result)"
   ]
  },
  {
   "cell_type": "code",
   "execution_count": null,
   "id": "4d6e5b98-fbb9-41b0-b885-4f2a32745fbb",
   "metadata": {},
   "outputs": [],
   "source": []
  }
 ],
 "metadata": {
  "kernelspec": {
   "display_name": "Python 2",
   "language": "python",
   "name": "python2"
  },
  "language_info": {
   "codemirror_mode": {
    "name": "ipython",
    "version": 2
   },
   "file_extension": ".py",
   "mimetype": "text/x-python",
   "name": "python",
   "nbconvert_exporter": "python",
   "pygments_lexer": "ipython2",
   "version": "2.7.18"
  }
 },
 "nbformat": 4,
 "nbformat_minor": 5
}
