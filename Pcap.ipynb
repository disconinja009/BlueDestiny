{
 "cells": [
  {
   "cell_type": "markdown",
   "id": "a9c9afc6-7b04-40bd-9e20-e524869f09c2",
   "metadata": {},
   "source": [
    "# Pcap analysis"
   ]
  },
  {
   "cell_type": "markdown",
   "id": "92f49148-f560-4d8e-ac1a-ea30ee1e4ffd",
   "metadata": {},
   "source": [
    "## Library Import"
   ]
  },
  {
   "cell_type": "code",
   "execution_count": 2,
   "id": "808c69a0-d8cd-49da-9865-d499c26fb193",
   "metadata": {},
   "outputs": [],
   "source": [
    "import subprocess\n",
    "from subprocess import PIPE\n",
    "pcap = \"2023-01-18-part-1-IcedID-traffic-carved-and-santized.pcap\""
   ]
  },
  {
   "cell_type": "markdown",
   "id": "d0484d00-32c1-49cb-8b1d-af1a86bb4ce8",
   "metadata": {},
   "source": [
    "# infomation"
   ]
  },
  {
   "cell_type": "markdown",
   "id": "48806c6e-dae6-44e0-80cd-c78cc9a32099",
   "metadata": {},
   "source": [
    "## capinfo"
   ]
  },
  {
   "cell_type": "code",
   "execution_count": 3,
   "id": "bad71d9a-7d25-4479-bf84-952799b506e4",
   "metadata": {},
   "outputs": [
    {
     "name": "stdout",
     "output_type": "stream",
     "text": [
      "File name:           2023-01-18-part-1-IcedID-traffic-carved-and-santized.pcap\n",
      "File type:           Wireshark/tcpdump/... - pcap\n",
      "File encapsulation:  Ethernet\n",
      "File timestamp precision:  microseconds (6)\n",
      "Packet size limit:   file hdr: 65535 bytes\n",
      "Number of packets:   3,093\n",
      "File size:           3,554 kB\n",
      "Data size:           3,505 kB\n",
      "Capture duration:    5259.242901 seconds\n",
      "First packet time:   2023-01-19 02:54:11.279716\n",
      "Last packet time:    2023-01-19 04:21:50.522617\n",
      "Data byte rate:      666 bytes/s\n",
      "Data bit rate:       5,331 bits/s\n",
      "Average packet size: 1133.22 bytes\n",
      "Average packet rate: 0 packets/s\n",
      "SHA256:              9c62d645f7e28451044bce0288dfe761db0ebcff5bdf468374c6919801240ca2\n",
      "RIPEMD160:           36b6451e9daa90174e51c25a27aa53c49192e72d\n",
      "SHA1:                29fa52baf2b6168c535d3a6bf66b7cd89b8dc9e6\n",
      "Strict time order:   True\n",
      "Number of interfaces in file: 1\n",
      "Interface #0 info:\n",
      "                     Encapsulation = Ethernet (1 - ether)\n",
      "                     Capture length = 65535\n",
      "                     Time precision = microseconds (6)\n",
      "                     Time ticks per second = 1000000\n",
      "                     Number of stat entries = 0\n",
      "                     Number of packets = 3093\n",
      "\n"
     ]
    }
   ],
   "source": [
    "result = subprocess.run([\"capinfos\",pcap],capture_output=True,text=True)\n",
    "print(result.stdout)\n",
    "\n",
    "with open(\"capinfos.txt\" ,mode=\"w\")as f:\n",
    "    f.write(result.stdout)"
   ]
  },
  {
   "cell_type": "markdown",
   "id": "55f59589-603f-41ba-a2ba-813b80762c62",
   "metadata": {},
   "source": [
    "## Protocol Hierarchy"
   ]
  },
  {
   "cell_type": "code",
   "execution_count": 4,
   "id": "478ae4e3-0b00-4cdf-87ed-1b3f1e363d3d",
   "metadata": {},
   "outputs": [
    {
     "name": "stdout",
     "output_type": "stream",
     "text": [
      "\n",
      "===================================================================\n",
      "Protocol Hierarchy Statistics\n",
      "Filter: \n",
      "\n",
      "eth                                      frames:3093 bytes:3505061\n",
      "  ip                                     frames:3093 bytes:3505061\n",
      "    udp                                  frames:38 bytes:3382\n",
      "      dns                                frames:38 bytes:3382\n",
      "    tcp                                  frames:3055 bytes:3501679\n",
      "      http                               frames:2 bytes:1605\n",
      "        media                            frames:1 bytes:1241\n",
      "          tcp.segments                   frames:1 bytes:1241\n",
      "      tls                                frames:324 bytes:293200\n",
      "        tcp.segments                     frames:118 bytes:137462\n",
      "          tls                            frames:54 bytes:81578\n",
      "===================================================================\n",
      "\n"
     ]
    }
   ],
   "source": [
    "result = subprocess.run([\"tshark\",\"-r\",pcap,\"-qz\", \"io,phs\"],capture_output=True,text=True)\n",
    "print(result.stdout)\n",
    "\n",
    "with open(\"Protocol Hierarchy.txt\" ,mode=\"w\")as f:\n",
    "    f.write(result.stdout)"
   ]
  },
  {
   "cell_type": "markdown",
   "id": "885a926c-5fb0-418f-8da2-1b881bdacf95",
   "metadata": {},
   "source": [
    "## Conversations"
   ]
  },
  {
   "cell_type": "code",
   "execution_count": 10,
   "id": "b7f45206-887c-4e8c-9133-3675724074cc",
   "metadata": {},
   "outputs": [
    {
     "name": "stdout",
     "output_type": "stream",
     "text": [
      "================================================================================\n",
      "IPv4 Conversations\n",
      "Filter:<No Filter>\n",
      "                                               |       <-      | |       ->      | |     Total     |    Relative    |   Duration   |\n",
      "                                               | Frames  Bytes | | Frames  Bytes | | Frames  Bytes |      Start     |              |\n",
      "10.1.18.101          <-> 45.12.109.221           1418 1,988 kB      231 16 kB        1649 2,004 kB     62.308236000        72.1465\n",
      "10.1.18.101          <-> 168.100.11.226           985 1,429 kB       99 5,668 bytes    1084 1,435 kB      0.180338000        62.1269\n",
      "10.1.18.101          <-> 91.238.50.101            170 40 kB         152 21 kB         322 62 kB        66.333669000      5192.9092\n",
      "10.1.18.101          <-> 10.1.18.1                 19 1,843 bytes      19 1,539 bytes      38 3,382 bytes     0.000000000      5197.2187\n",
      "================================================================================\n",
      "================================================================================\n",
      "TCP Conversations\n",
      "Filter:<No Filter>\n",
      "                                                           |       <-      | |       ->      | |     Total     |    Relative    |   Duration   |\n",
      "                                                           | Frames  Bytes | | Frames  Bytes | | Frames  Bytes |      Start     |              |\n",
      "10.1.18.101:62983          <-> 45.12.109.221:443             1390 1,982 kB      208 11 kB        1598 1,994 kB     63.952466000        70.5023\n",
      "10.1.18.101:62974          <-> 168.100.11.226:80              985 1,429 kB       99 5,668 bytes    1084 1,435 kB      0.180338000        62.1269\n",
      "10.1.18.101:62985          <-> 91.238.50.101:443               17 3,049 bytes      16 4,273 bytes      33 7,322 bytes    66.333669000        68.2336\n",
      "10.1.18.101:62982          <-> 45.12.109.221:443               17 3,117 bytes      14 3,470 bytes      31 6,587 bytes    62.308236000        68.3608\n",
      "10.1.18.101:62984          <-> 45.12.109.221:443               11 2,830 bytes       9 1,071 bytes      20 3,901 bytes    63.952843000        66.0421\n",
      "10.1.18.101:63006          <-> 91.238.50.101:443                9 2,197 bytes       8 1,027 bytes      17 3,224 bytes   364.959589000        61.9730\n",
      "10.1.18.101:63028          <-> 91.238.50.101:443                9 2,197 bytes       8 1,027 bytes      17 3,224 bytes   666.811441000        61.7692\n",
      "10.1.18.101:63053          <-> 91.238.50.101:443                9 2,197 bytes       8 1,027 bytes      17 3,224 bytes   968.482345000        61.8805\n",
      "10.1.18.101:63081          <-> 91.238.50.101:443                9 2,197 bytes       8 1,027 bytes      17 3,224 bytes  1270.232407000        61.6231\n",
      "10.1.18.101:63104          <-> 91.238.50.101:443                9 2,197 bytes       8 1,027 bytes      17 3,224 bytes  1571.740972000        61.8917\n",
      "10.1.18.101:63126          <-> 91.238.50.101:443                9 2,197 bytes       8 1,027 bytes      17 3,224 bytes  1873.355319000        61.9378\n",
      "10.1.18.101:63148          <-> 91.238.50.101:443                9 2,197 bytes       8 1,027 bytes      17 3,224 bytes  2175.178148000        64.7534\n",
      "10.1.18.101:63169          <-> 91.238.50.101:443                9 2,197 bytes       8 1,027 bytes      17 3,224 bytes  2479.816816000        61.8199\n",
      "10.1.18.101:63196          <-> 91.238.50.101:443                9 2,197 bytes       8 1,027 bytes      17 3,224 bytes  2781.512496000        61.6221\n",
      "10.1.18.101:63218          <-> 91.238.50.101:443                9 2,197 bytes       8 1,027 bytes      17 3,224 bytes  3083.106570000        62.5963\n",
      "10.1.18.101:63239          <-> 91.238.50.101:443                9 2,197 bytes       8 1,027 bytes      17 3,224 bytes  3385.013717000        61.9477\n",
      "10.1.18.101:63265          <-> 91.238.50.101:443                9 2,197 bytes       8 1,027 bytes      17 3,224 bytes  3686.826470000        62.9201\n",
      "10.1.18.101:63287          <-> 91.238.50.101:443                9 2,197 bytes       8 1,027 bytes      17 3,224 bytes  3989.253436000        61.8877\n",
      "10.1.18.101:63307          <-> 91.238.50.101:443                9 2,197 bytes       8 1,027 bytes      17 3,224 bytes  4291.192023000        62.0213\n",
      "10.1.18.101:63341          <-> 91.238.50.101:443                9 2,197 bytes       8 1,027 bytes      17 3,224 bytes  4593.123009000        62.1727\n",
      "10.1.18.101:63366          <-> 91.238.50.101:443                9 2,197 bytes       8 1,027 bytes      17 3,224 bytes  4895.147659000        62.1319\n",
      "10.1.18.101:63387          <-> 91.238.50.101:443                9 2,197 bytes       8 1,027 bytes      17 3,224 bytes  5197.195869000        62.0470\n",
      "================================================================================\n",
      "\n"
     ]
    }
   ],
   "source": [
    "result = subprocess.run([\"tshark\",\"-r\",pcap,\"-qz\", \"conv,tcp\", \"-qz\", \"conv,ip\"],capture_output=True,text=True)\n",
    "print(result.stdout)\n",
    "\n",
    "with open(\"Conversations.txt\" ,mode=\"w\")as f:\n",
    "    f.write(result.stdout)"
   ]
  },
  {
   "cell_type": "markdown",
   "id": "a13af2fb-128c-498c-8f83-a40c5f44513c",
   "metadata": {},
   "source": [
    "# Analysis"
   ]
  },
  {
   "cell_type": "markdown",
   "id": "30d12c63-5c44-4f73-8d99-2b7113db0485",
   "metadata": {},
   "source": [
    "## Get the requested URL"
   ]
  },
  {
   "cell_type": "code",
   "execution_count": 14,
   "id": "654c3723-d269-40bf-9328-400bc4a0db1b",
   "metadata": {},
   "outputs": [
    {
     "name": "stdout",
     "output_type": "stream",
     "text": [
      "http://qsertopinajil.com/\n",
      "\n"
     ]
    }
   ],
   "source": [
    "result = subprocess.run([\"tshark\",\"-r\",pcap,\"-Y\", \"http.request\",\"-T\",\"fields\",\"-e\",\"http.request.full_uri\"],capture_output=True,text=True)\n",
    "print(result.stdout)\n",
    "\n",
    "with open(\"urllist.txt\" ,mode=\"w\")as f:\n",
    "    f.write(result.stdout)"
   ]
  },
  {
   "cell_type": "markdown",
   "id": "0e3e3527-d3d8-435e-86af-b0508bbf1862",
   "metadata": {},
   "source": [
    "## HTTP response response code"
   ]
  },
  {
   "cell_type": "code",
   "execution_count": 15,
   "id": "737ce99f-0787-452c-86a3-e072f181b28d",
   "metadata": {},
   "outputs": [
    {
     "name": "stdout",
     "output_type": "stream",
     "text": [
      "200\n",
      "\n"
     ]
    }
   ],
   "source": [
    "result = subprocess.run([\"tshark\",\"-r\",pcap,\"-Y\", \"http.response.code\",\"-T\",\"fields\",\"-e\",\"http.response.code\"],capture_output=True,text=True)\n",
    "print(result.stdout)\n",
    "\n",
    "with open(\"responsecode.txt\" ,mode=\"w\")as f:\n",
    "    f.write(result.stdout)"
   ]
  },
  {
   "cell_type": "markdown",
   "id": "4941b79b-93b7-425f-bf1c-0d0ad0503f50",
   "metadata": {},
   "source": [
    "## HTTP response body"
   ]
  },
  {
   "cell_type": "code",
   "execution_count": 16,
   "id": "a9ba7863-ce9b-4c20-b883-0f36eaee51ed",
   "metadata": {},
   "outputs": [
    {
     "name": "stdout",
     "output_type": "stream",
     "text": [
      "\u001f�\\b\\b\n",
      "\n"
     ]
    }
   ],
   "source": [
    "result = subprocess.run([\"tshark\",\"-r\",pcap,\"-Y\", \"http.response\",\"-T\",\"fields\",\"-e\",\"http.file_data\"],capture_output=True,text=True)\n",
    "print(result.stdout)\n",
    "\n",
    "with open(\"responsebody.txt\" ,mode=\"w\")as f:\n",
    "    f.write(result.stdout)"
   ]
  },
  {
   "cell_type": "code",
   "execution_count": null,
   "id": "b422e002-401b-4f74-94fd-132e549e10b9",
   "metadata": {},
   "outputs": [],
   "source": []
  }
 ],
 "metadata": {
  "kernelspec": {
   "display_name": "Python 3 (ipykernel)",
   "language": "python",
   "name": "python3"
  },
  "language_info": {
   "codemirror_mode": {
    "name": "ipython",
    "version": 3
   },
   "file_extension": ".py",
   "mimetype": "text/x-python",
   "name": "python",
   "nbconvert_exporter": "python",
   "pygments_lexer": "ipython3",
   "version": "3.8.10"
  }
 },
 "nbformat": 4,
 "nbformat_minor": 5
}
